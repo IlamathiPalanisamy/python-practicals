{
 "cells": [
  {
   "cell_type": "code",
   "execution_count": 2,
   "id": "e335c6ff-0ab0-456f-9065-d76b4ea8ed60",
   "metadata": {},
   "outputs": [
    {
     "name": "stdout",
     "output_type": "stream",
     "text": [
      "Asifa\n",
      "Ashifa\n",
      "PHP is a server scripting language, and a powerful tool for making dynamic and interactive Web pages\n",
      "PHP is a widely-used, free, and efficient alternative to competitors such as Microsoft's ASP\n"
     ]
    }
   ],
   "source": [
    "#Basic syntax of string operations in python\n",
    "a=\"Asifa\"\n",
    "b=\"Ashifa\"\n",
    "c=\"\"\"PHP is a server scripting language, and a powerful tool for making dynamic and interactive Web pages\"\"\"\n",
    "d='''PHP is a widely-used, free, and efficient alternative to competitors such as Microsoft's ASP'''\n",
    "print(a)\n",
    "print(b)\n",
    "print(c)\n",
    "print(d)"
   ]
  },
  {
   "cell_type": "code",
   "execution_count": 3,
   "id": "044474e1-5843-4fb3-885c-29087a88b418",
   "metadata": {},
   "outputs": [
    {
     "name": "stdout",
     "output_type": "stream",
     "text": [
      "y\n",
      "yt\n",
      "yth\n",
      "ytho\n",
      "ython\n",
      "ython \n",
      "ython p\n"
     ]
    }
   ],
   "source": [
    "#String slicing01\n",
    "x=\"Python programming\"\n",
    "print(x[1:2])\n",
    "print(x[1:3])\n",
    "print(x[1:4])\n",
    "print(x[1:5])\n",
    "print(x[1:6])\n",
    "print(x[1:7])\n",
    "print(x[1:8])"
   ]
  },
  {
   "cell_type": "code",
   "execution_count": 17,
   "id": "5bfd1a41-3fb7-475c-9ef6-68c5f0acae0a",
   "metadata": {},
   "outputs": [
    {
     "name": "stdout",
     "output_type": "stream",
     "text": [
      "ython programming\n",
      "Python programming\n",
      "Python\n",
      "g\n",
      "g\n"
     ]
    }
   ],
   "source": [
    "#String slicing02\n",
    "x=\"Python programming\"\n",
    "print(x[1:])\n",
    "print(x[0:])\n",
    "print(x[:6])\n",
    "print(x[-1])\n",
    "print(x[-1:])"
   ]
  },
  {
   "cell_type": "code",
   "execution_count": 7,
   "id": "7269e954-63eb-4c4f-aa1a-592312227abb",
   "metadata": {},
   "outputs": [
    {
     "name": "stdout",
     "output_type": "stream",
     "text": [
      "amming\n",
      "agr o\n"
     ]
    }
   ],
   "source": [
    "#String slicing03\n",
    "x=\"Python programming\"\n",
    "print(x[-6:])\n",
    "print(x[-6:2:-2])"
   ]
  },
  {
   "cell_type": "code",
   "execution_count": 9,
   "id": "e4eeb721-6382-4311-b0b4-47dbb0ae8c57",
   "metadata": {},
   "outputs": [
    {
     "name": "stdout",
     "output_type": "stream",
     "text": [
      "agr otP\n",
      "tg\n"
     ]
    }
   ],
   "source": [
    "#String slicing04\n",
    "x=\"Python programming\"\n",
    "print(x[-6::-2])\n",
    "print(x[2::8])"
   ]
  },
  {
   "cell_type": "code",
   "execution_count": 14,
   "id": "2341c3e6-01e1-442f-9060-5c8e6a811f6c",
   "metadata": {},
   "outputs": [
    {
     "name": "stdout",
     "output_type": "stream",
     "text": [
      "Kih\n",
      "Kih\n"
     ]
    }
   ],
   "source": [
    "#String slicing05\n",
    "y=\"Krishna\"\n",
    "print(y[-7:-2:2])\n",
    "print(y[0:5:2])"
   ]
  },
  {
   "cell_type": "code",
   "execution_count": 18,
   "id": "64738275-209e-4ba2-8fca-ed493e5a9128",
   "metadata": {},
   "outputs": [
    {
     "name": "stdout",
     "output_type": "stream",
     "text": [
      "Krishna\n",
      "Krishna\n",
      "Krishna\n",
      "Krishna\n",
      "Krishna\n"
     ]
    }
   ],
   "source": [
    "#String slicing06\n",
    "y=\"Krishna\"\n",
    "print(y[::1])\n",
    "print(y[0:])\n",
    "print(y[::])\n",
    "print(y[:])\n",
    "print(y[-7:])"
   ]
  },
  {
   "cell_type": "code",
   "execution_count": 21,
   "id": "d8012f86-cf69-445b-9b62-5ddbdddbe1cc",
   "metadata": {},
   "outputs": [
    {
     "name": "stdout",
     "output_type": "stream",
     "text": [
      "r\n",
      "Krish\n",
      "Kiha\n",
      "anhsirK\n",
      "a\n",
      "a\n"
     ]
    }
   ],
   "source": [
    "#String slicing07\n",
    "y=\"Krishna\"\n",
    "print(y[1])\n",
    "print(y[0:5])\n",
    "print(y[::2])\n",
    "print(y[::-1])\n",
    "print(y[::-7])\n",
    "print(y[-1:])"
   ]
  },
  {
   "cell_type": "code",
   "execution_count": 22,
   "id": "b74920d3-8a96-4c90-a671-ad1620263444",
   "metadata": {},
   "outputs": [
    {
     "name": "stdout",
     "output_type": "stream",
     "text": [
      "rishn\n",
      "rishn\n"
     ]
    }
   ],
   "source": [
    "#String slicing08\n",
    "y=\"Krishna\"\n",
    "print(y[1:6])\n",
    "print(y[-6:-1])"
   ]
  },
  {
   "cell_type": "code",
   "execution_count": 24,
   "id": "fd8cf607-30e1-4d93-ac04-9983c37baabc",
   "metadata": {},
   "outputs": [
    {
     "name": "stdout",
     "output_type": "stream",
     "text": [
      "hna\n",
      "hna\n",
      "Kris\n"
     ]
    }
   ],
   "source": [
    "#String slicing09\n",
    "y=\"Krishna\"\n",
    "print(y[4:])\n",
    "print(y[-3:])\n",
    "print(y[:-3])"
   ]
  },
  {
   "cell_type": "code",
   "execution_count": 25,
   "id": "7b5bdb86-06da-4945-a009-c98ec26dd09b",
   "metadata": {},
   "outputs": [
    {
     "name": "stdout",
     "output_type": "stream",
     "text": [
      "Kiha\n",
      "Ksa\n"
     ]
    }
   ],
   "source": [
    "#String slicing10\n",
    "y=\"Krishna\"\n",
    "print(y[::2])\n",
    "print(y[::3])"
   ]
  },
  {
   "cell_type": "code",
   "execution_count": 26,
   "id": "d676544d-f3f6-4bdd-8f06-adb7acafee1c",
   "metadata": {},
   "outputs": [
    {
     "name": "stdout",
     "output_type": "stream",
     "text": [
      "P\n",
      "y\n",
      "t\n",
      "h\n",
      "o\n",
      "n\n"
     ]
    }
   ],
   "source": [
    "#looping in string\n",
    "for i in \"Python\":\n",
    "    print(i)"
   ]
  },
  {
   "cell_type": "code",
   "execution_count": 27,
   "id": "78ef3c12-29fa-43c8-927d-3260d0656b55",
   "metadata": {},
   "outputs": [
    {
     "name": "stdout",
     "output_type": "stream",
     "text": [
      "7\n"
     ]
    }
   ],
   "source": [
    "#String method\n",
    "z=\"Krishna\"\n",
    "print(len(z))"
   ]
  },
  {
   "cell_type": "code",
   "execution_count": 31,
   "id": "b7eea3ba-d130-45f9-bff0-c0b298632d09",
   "metadata": {},
   "outputs": [
    {
     "name": "stdin",
     "output_type": "stream",
     "text": [
      "Enter the string: ashifa\n"
     ]
    },
    {
     "name": "stdout",
     "output_type": "stream",
     "text": [
      "3\n"
     ]
    }
   ],
   "source": [
    "#To check the vowels\n",
    "st1=input(\"Enter the string:\")\n",
    "a=0\n",
    "for i in st1:\n",
    "    if i in \"aeiouAEIOU\":\n",
    "        a=a+1\n",
    "print(a)"
   ]
  },
  {
   "cell_type": "code",
   "execution_count": 35,
   "id": "f039bd43-00bd-486d-a941-8226ea0d5f4e",
   "metadata": {},
   "outputs": [
    {
     "name": "stdout",
     "output_type": "stream",
     "text": [
      "ARTIFICIAL INTELLIGENCE AND MACHINE LEARNING\n",
      "artificial intelligence and machine learning\n",
      "28\n",
      "Artificial Foundation and Machine Learning\n"
     ]
    }
   ],
   "source": [
    "#String methods\n",
    "s=\"Artificial Intelligence and Machine Learning\"\n",
    "print(s.upper())\n",
    "print(s.lower())\n",
    "print(s.find(\"Machine\"))\n",
    "print(s.replace(\"Intelligence\",\"Foundation\"))"
   ]
  },
  {
   "cell_type": "code",
   "execution_count": 36,
   "id": "88ece1c1-fba9-476d-9dc8-b101a202b7f7",
   "metadata": {},
   "outputs": [
    {
     "name": "stdout",
     "output_type": "stream",
     "text": [
      "HelloStudents\n",
      "HelloHello\n"
     ]
    }
   ],
   "source": [
    "#String concatenation and Repetition\n",
    "a=\"Hello\"\n",
    "b=\"Students\"\n",
    "print(a+b)\n",
    "print(a*2)"
   ]
  },
  {
   "cell_type": "code",
   "execution_count": 37,
   "id": "f4e0f5fd-15d3-4e4a-8095-2771cf61b1ef",
   "metadata": {},
   "outputs": [
    {
     "name": "stdout",
     "output_type": "stream",
     "text": [
      "0\n",
      "2\n",
      "4\n"
     ]
    }
   ],
   "source": [
    "#Loop with step value using range()\n",
    "for i in range(0,5,2):\n",
    "    print(i)"
   ]
  },
  {
   "cell_type": "code",
   "execution_count": 38,
   "id": "15425df4-b1a2-455b-b5e4-d316d3f13d1b",
   "metadata": {},
   "outputs": [
    {
     "name": "stdin",
     "output_type": "stream",
     "text": [
      "Enter the sentence: Ashifa109\n"
     ]
    },
    {
     "name": "stdout",
     "output_type": "stream",
     "text": [
      "No of upper cases: 1\n",
      "No of lower cases: 5\n",
      "No of digits: 3\n"
     ]
    }
   ],
   "source": [
    "#Count no.of uppercase,lowercase and digits in a sentence\n",
    "s=input(\"Enter the sentence:\")\n",
    "u=0\n",
    "l=0\n",
    "d=0\n",
    "for i in s:\n",
    "    if i.isupper():\n",
    "        u=u+1\n",
    "    elif i.islower():\n",
    "        l=l+1\n",
    "    elif i.isdigit():\n",
    "        d=d+1\n",
    "print(\"No of upper cases:\",u)\n",
    "print(\"No of lower cases:\",l)\n",
    "print(\"No of digits:\",d)"
   ]
  }
 ],
 "metadata": {
  "kernelspec": {
   "display_name": "Python 3 (ipykernel)",
   "language": "python",
   "name": "python3"
  },
  "language_info": {
   "codemirror_mode": {
    "name": "ipython",
    "version": 3
   },
   "file_extension": ".py",
   "mimetype": "text/x-python",
   "name": "python",
   "nbconvert_exporter": "python",
   "pygments_lexer": "ipython3",
   "version": "3.13.5"
  }
 },
 "nbformat": 4,
 "nbformat_minor": 5
}
