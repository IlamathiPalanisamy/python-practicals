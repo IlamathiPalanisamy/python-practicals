{
 "cells": [
  {
   "cell_type": "code",
   "execution_count": 3,
   "id": "a3ba85e9-e6f9-44d4-aa5b-095ca31ab0e9",
   "metadata": {},
   "outputs": [
    {
     "name": "stdout",
     "output_type": "stream",
     "text": [
      "0\n",
      "1\n",
      "2\n",
      "3\n",
      "4\n",
      "5\n"
     ]
    }
   ],
   "source": [
    "#printing numbers from range 0 to 6 using for loop\n",
    "for i in range(0,6):\n",
    "    print(i)"
   ]
  },
  {
   "cell_type": "code",
   "execution_count": 5,
   "id": "29183bd6-e7ad-41a9-a030-df34b67c958c",
   "metadata": {},
   "outputs": [
    {
     "name": "stdout",
     "output_type": "stream",
     "text": [
      "0\n",
      "1\n",
      "2\n",
      "3\n",
      "4\n",
      "5\n"
     ]
    }
   ],
   "source": [
    "#printing numbers from range 0 to 6 using while loop\n",
    "i=0\n",
    "while i<6:\n",
    "    print(i)\n",
    "    i+=1"
   ]
  },
  {
   "cell_type": "code",
   "execution_count": 6,
   "id": "fbbfa20c-1a07-4044-a328-f884dd5f469b",
   "metadata": {},
   "outputs": [
    {
     "name": "stdout",
     "output_type": "stream",
     "text": [
      "2 * 1 = 2\n",
      "2 * 2 = 4\n",
      "2 * 3 = 6\n",
      "2 * 4 = 8\n",
      "2 * 5 = 10\n",
      "2 * 6 = 12\n",
      "2 * 7 = 14\n",
      "2 * 8 = 16\n",
      "2 * 9 = 18\n",
      "2 * 10 = 20\n"
     ]
    }
   ],
   "source": [
    "#Multiplication table of 2 using a for loop\n",
    "for i in range(1,11):\n",
    "    print(\"2\",\"*\",i,\"=\",i*2)"
   ]
  },
  {
   "cell_type": "code",
   "execution_count": 8,
   "id": "57454ebb-e490-4361-aa5b-827ffcbfb890",
   "metadata": {},
   "outputs": [
    {
     "name": "stdin",
     "output_type": "stream",
     "text": [
      "Enter a number: 645\n"
     ]
    },
    {
     "name": "stdout",
     "output_type": "stream",
     "text": [
      "Reverse of a number: 546\n"
     ]
    }
   ],
   "source": [
    "#Reverse of a number using while loop\n",
    "n=int(input(\"Enter a number:\"))\n",
    "s=0\n",
    "while n!=0:\n",
    "    r=n%10\n",
    "    s=s*10+r\n",
    "    n=n//10\n",
    "print(\"Reverse of a number:\",s)"
   ]
  },
  {
   "cell_type": "code",
   "execution_count": 9,
   "id": "be960089-54bc-4b45-88ca-9e1436154652",
   "metadata": {},
   "outputs": [
    {
     "name": "stdout",
     "output_type": "stream",
     "text": [
      "2\n",
      "4\n",
      "6\n",
      "8\n",
      "10\n",
      "12\n",
      "14\n",
      "16\n",
      "18\n",
      "20\n"
     ]
    }
   ],
   "source": [
    "#Printing Even numbers from 1 to 20 using for loop\n",
    "for i in range(1,21):\n",
    "    if(i%2==0):\n",
    "        print(i)"
   ]
  },
  {
   "cell_type": "code",
   "execution_count": 10,
   "id": "bf3a17bd-8755-45e9-be3e-c8b263c94ae9",
   "metadata": {},
   "outputs": [
    {
     "name": "stdin",
     "output_type": "stream",
     "text": [
      "Enter a number: 5\n"
     ]
    },
    {
     "name": "stdout",
     "output_type": "stream",
     "text": [
      "Factorial of a number: 120\n"
     ]
    }
   ],
   "source": [
    "#Factorial of a number using while loop\n",
    "n=int(input(\"Enter a number:\"))\n",
    "a=1\n",
    "fact=1\n",
    "while a<=n:\n",
    "    fact*=a\n",
    "    a+=1\n",
    "print(\"Factorial of a number:\",fact)"
   ]
  }
 ],
 "metadata": {
  "kernelspec": {
   "display_name": "Python 3 (ipykernel)",
   "language": "python",
   "name": "python3"
  },
  "language_info": {
   "codemirror_mode": {
    "name": "ipython",
    "version": 3
   },
   "file_extension": ".py",
   "mimetype": "text/x-python",
   "name": "python",
   "nbconvert_exporter": "python",
   "pygments_lexer": "ipython3",
   "version": "3.13.5"
  }
 },
 "nbformat": 4,
 "nbformat_minor": 5
}
