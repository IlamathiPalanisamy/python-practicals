{
 "cells": [
  {
   "cell_type": "code",
   "execution_count": 1,
   "id": "32d51b38-d59a-49aa-9982-1572a1a1f4f0",
   "metadata": {},
   "outputs": [
    {
     "name": "stdout",
     "output_type": "stream",
     "text": [
      "(4, 5, 6, 7, 8, 9)\n"
     ]
    }
   ],
   "source": [
    "#Creating a tuple\n",
    "a=(4,5,6,7,8,9)\n",
    "print(a)"
   ]
  },
  {
   "cell_type": "code",
   "execution_count": 2,
   "id": "1cc4644f-46a3-4b27-9be2-32eedac0041c",
   "metadata": {},
   "outputs": [
    {
     "name": "stdout",
     "output_type": "stream",
     "text": [
      "(4, 9, 6, 7)\n"
     ]
    }
   ],
   "source": [
    "#To change element in tuple\n",
    "a=(4,5,6,7)\n",
    "a=a[:1]+(9,)+a[2:]\n",
    "print(a)"
   ]
  },
  {
   "cell_type": "code",
   "execution_count": 12,
   "id": "6a0db453-bfd3-4c02-af3f-fdfbee6aa450",
   "metadata": {},
   "outputs": [
    {
     "name": "stdout",
     "output_type": "stream",
     "text": [
      "8 7\n"
     ]
    }
   ],
   "source": [
    "#Swapping of two numbers\n",
    "x=7\n",
    "y=8\n",
    "x,y=y,x\n",
    "print(x,y)"
   ]
  },
  {
   "cell_type": "code",
   "execution_count": 5,
   "id": "69e7a282-d105-445b-a766-eed0939f04c4",
   "metadata": {},
   "outputs": [
    {
     "name": "stdout",
     "output_type": "stream",
     "text": [
      "[('Ram', 20), ('Karthik', 18), ('Arjun', 19)]\n",
      "[('Karthik', 18), ('Arjun', 19), ('Ram', 20)]\n",
      "[('Arjun', 19), ('Karthik', 18), ('Ram', 20)]\n"
     ]
    }
   ],
   "source": [
    "#List of tuples\n",
    "student=[(\"Ram\",20),(\"Karthik\",18),(\"Arjun\",19)]\n",
    "print(student)\n",
    "sort=sorted(student,key=lambda x:x[1])\n",
    "print(sort)\n",
    "sort1=sorted(student,key=lambda x:x[0])\n",
    "print(sort1)"
   ]
  },
  {
   "cell_type": "code",
   "execution_count": 6,
   "id": "9494c2ee-1cfd-4fe3-bafa-9303cab3daca",
   "metadata": {},
   "outputs": [
    {
     "name": "stdout",
     "output_type": "stream",
     "text": [
      "(8, 7, 6, 4, 2)\n",
      "(2, 6, 8)\n",
      "(2, 4, 6, 7, 8)\n",
      "(2, 4, 6, 7, 8)\n",
      "(2, 6, 8)\n"
     ]
    }
   ],
   "source": [
    "#Tuple slicing\n",
    "a=(2,4,6,7,8)\n",
    "print(a[::-1])\n",
    "print(a[0::2])\n",
    "print(a[-5:])\n",
    "print(a[0:])\n",
    "print(a[::2])"
   ]
  },
  {
   "cell_type": "code",
   "execution_count": 7,
   "id": "0b5aa590-4373-4785-8fda-0b57ebc863ac",
   "metadata": {},
   "outputs": [
    {
     "name": "stdout",
     "output_type": "stream",
     "text": [
      "3\n"
     ]
    }
   ],
   "source": [
    "#Count the no.of elements in the tuple\n",
    "t=(1,2,3,4,5,6,7,8,2,2)\n",
    "c=t.count(2)\n",
    "print(c)"
   ]
  },
  {
   "cell_type": "code",
   "execution_count": 8,
   "id": "f0a310f4-e636-45b0-998e-96fa431b8af1",
   "metadata": {},
   "outputs": [
    {
     "name": "stdout",
     "output_type": "stream",
     "text": [
      "Football\n",
      "Cricket\n",
      "Volleyball\n",
      "Throwball\n",
      "Football\n",
      "Cricket\n",
      "Volleyball\n",
      "Throwball\n"
     ]
    }
   ],
   "source": [
    "#For loop in tuple\n",
    "sports=(\"Football\",\"Cricket\",\"Volleyball\",\"Throwball\")\n",
    "for i in sports:\n",
    "    print(i)\n",
    "for i in range(len(sports)):\n",
    "    print(sports[i])"
   ]
  },
  {
   "cell_type": "code",
   "execution_count": 9,
   "id": "3e501d38-91da-4eea-b39f-52de2d887dc4",
   "metadata": {},
   "outputs": [
    {
     "name": "stdout",
     "output_type": "stream",
     "text": [
      "109 Ashifa 18\n"
     ]
    }
   ],
   "source": [
    "#Tuple unpacking\n",
    "data=(109,\"Ashifa\",18)\n",
    "rollno,name,age=data\n",
    "print(rollno,name,age)"
   ]
  },
  {
   "cell_type": "code",
   "execution_count": 10,
   "id": "c08cb3c6-bcad-44b5-ae64-c1df69cc6dcd",
   "metadata": {},
   "outputs": [
    {
     "name": "stdout",
     "output_type": "stream",
     "text": [
      "[1, 2, 3] [4, 5, 6]\n",
      "[4, 5, 6] (1, 2, 3)\n"
     ]
    }
   ],
   "source": [
    "#List and Tuple Datatype transformation\n",
    "l=[1,2,3]\n",
    "t=[4,5,6]\n",
    "print(l,t)\n",
    "print(list(t),tuple(l))"
   ]
  }
 ],
 "metadata": {
  "kernelspec": {
   "display_name": "Python 3 (ipykernel)",
   "language": "python",
   "name": "python3"
  },
  "language_info": {
   "codemirror_mode": {
    "name": "ipython",
    "version": 3
   },
   "file_extension": ".py",
   "mimetype": "text/x-python",
   "name": "python",
   "nbconvert_exporter": "python",
   "pygments_lexer": "ipython3",
   "version": "3.13.5"
  }
 },
 "nbformat": 4,
 "nbformat_minor": 5
}
