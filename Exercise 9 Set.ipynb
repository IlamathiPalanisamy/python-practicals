{
 "cells": [
  {
   "cell_type": "code",
   "execution_count": 3,
   "id": "74706c5f-ffd0-406d-a299-e8ced8c0dffe",
   "metadata": {},
   "outputs": [
    {
     "name": "stdout",
     "output_type": "stream",
     "text": [
      "{'Red', 'Green', 'Black', 'Yellow'}\n"
     ]
    }
   ],
   "source": [
    "#Creating a set\n",
    "color={\"Red\", \"Green\", \"Yellow\", \"Black\"}\n",
    "print(color)"
   ]
  },
  {
   "cell_type": "code",
   "execution_count": 4,
   "id": "b14909fe-1aaa-4c41-b83a-49caa3419513",
   "metadata": {},
   "outputs": [
    {
     "name": "stdout",
     "output_type": "stream",
     "text": [
      "{1, 2, 3}\n"
     ]
    }
   ],
   "source": [
    "#Creating a set using set function\n",
    "n=set((2,1,3,2,1))\n",
    "print(n)"
   ]
  },
  {
   "cell_type": "code",
   "execution_count": 5,
   "id": "2ac6e853-e72c-43f0-9884-bc940f2f6b32",
   "metadata": {},
   "outputs": [
    {
     "name": "stdout",
     "output_type": "stream",
     "text": [
      "{1, 2, 3, 4, 5}\n",
      "{1, 2, 3, 4, 5}\n",
      "{3}\n",
      "{1, 2}\n",
      "{4, 5}\n",
      "{1, 2, 4, 5}\n",
      "{1, 2, 4, 5}\n"
     ]
    }
   ],
   "source": [
    "#Basic set operation\n",
    "a={1,2,3}\n",
    "b={3,4,5}\n",
    "print(a.union(b))\n",
    "print(b.union(a))\n",
    "print(a.intersection(b))\n",
    "print(a.difference(b))\n",
    "print(b.difference(a))\n",
    "print(a.symmetric_difference(b))\n",
    "print(b.symmetric_difference(a))"
   ]
  },
  {
   "cell_type": "code",
   "execution_count": 6,
   "id": "7b580f41-bca3-473b-a2c9-d4a1f9feb3ab",
   "metadata": {},
   "outputs": [
    {
     "name": "stdout",
     "output_type": "stream",
     "text": [
      "{'MacOS', 'Unix', 'Windows', 'Linux'}\n"
     ]
    }
   ],
   "source": [
    "#Adding a new element in a set\n",
    "os={\"Windows\", \"Linux\",\"MacOS\"}\n",
    "os.add(\"Unix\")\n",
    "print(os)"
   ]
  },
  {
   "cell_type": "code",
   "execution_count": 8,
   "id": "95ed5423-3855-4399-936b-f34414cb448e",
   "metadata": {},
   "outputs": [
    {
     "name": "stdout",
     "output_type": "stream",
     "text": [
      "Students who are chosen both subjects: {'Shruthi', 'Jasra'}\n",
      "Students who are chosen either maths or cs: {'Alshifa', 'Threya', 'Ashifa', 'Anagha', 'Alfhiya', 'Monica'}\n",
      "Students who are chosen maths alone: {'Anagha', 'Ashifa', 'Monica'}\n",
      "Students who are chosen CS alone: {'Alshifa', 'Threya', 'Alfhiya'}\n",
      "{'Aslina', 'Shruthi', 'Ashifa', 'Jasra', 'Anagha', 'Monica'}\n"
     ]
    }
   ],
   "source": [
    "#Subject chosen\n",
    "maths={\"Ashifa\",\"Shruthi\",\"Jasra\",\"Monica\",\"Anagha\"}\n",
    "cs={\"Threya\",\"Shruthi\",\"Alfhiya\",\"Alshifa\",\"Jasra\"}\n",
    "print(\"Students who are chosen both subjects:\",maths.intersection(cs))\n",
    "print(\"Students who are chosen either maths or cs:\",maths.symmetric_difference(cs))\n",
    "print(\"Students who are chosen maths alone:\",maths.difference(cs))\n",
    "print(\"Students who are chosen CS alone:\",cs.difference(maths))\n",
    "maths.add(\"Aslina\")\n",
    "print(maths)"
   ]
  },
  {
   "cell_type": "code",
   "execution_count": 9,
   "id": "b42eca88-3def-4167-aaf7-35dfba375c38",
   "metadata": {},
   "outputs": [
    {
     "name": "stdout",
     "output_type": "stream",
     "text": [
      "{'Shruthi', 'Ashifa', 'Dhakshaiyaa', 'Charu', 'Jasra', 'Anagha', 'Monica'}\n"
     ]
    }
   ],
   "source": [
    "#Updating a set\n",
    "maths={\"Ashifa\", \"Shruthi\", \"Jasra\", \"Monica\", \"Anagha\"}\n",
    "m={\"Charu\", \"Dhakshaiyaa\"}\n",
    "maths.update(m)\n",
    "print(maths)"
   ]
  },
  {
   "cell_type": "code",
   "execution_count": 10,
   "id": "90cce2ad-816c-48ff-90be-32983cd16201",
   "metadata": {},
   "outputs": [
    {
     "name": "stdout",
     "output_type": "stream",
     "text": [
      "{'Ashif', 'Shruthi', 'Ashifa', 'Ravi', 'Jasra', 'Anagha', 'Monica', 'Ajay'}\n"
     ]
    }
   ],
   "source": [
    "#Alternative method for Updating a set \n",
    "maths={\"Ashifa\", \"Shruthi\", \"Jasra\", \"Monica\", \"Anagha\"}\n",
    "maths.update({\"Ravi\",\"Ajay\",\"Ashif\"})\n",
    "print(maths)"
   ]
  },
  {
   "cell_type": "code",
   "execution_count": 11,
   "id": "e30ffdc0-bf0f-4ae8-8df7-40c8fccf3f6e",
   "metadata": {},
   "outputs": [
    {
     "ename": "TypeError",
     "evalue": "unhashable type: 'set'",
     "output_type": "error",
     "traceback": [
      "\u001b[31m---------------------------------------------------------------------------\u001b[39m",
      "\u001b[31mTypeError\u001b[39m                                 Traceback (most recent call last)",
      "\u001b[36mCell\u001b[39m\u001b[36m \u001b[39m\u001b[32mIn[11]\u001b[39m\u001b[32m, line 3\u001b[39m\n\u001b[32m      1\u001b[39m \u001b[38;5;66;03m#Type error Due to unhashable set element\u001b[39;00m\n\u001b[32m      2\u001b[39m maths={\u001b[33m\"\u001b[39m\u001b[33mAshifa\u001b[39m\u001b[33m\"\u001b[39m, \u001b[33m\"\u001b[39m\u001b[33mShruthi\u001b[39m\u001b[33m\"\u001b[39m, \u001b[33m\"\u001b[39m\u001b[33mJasra\u001b[39m\u001b[33m\"\u001b[39m, \u001b[33m\"\u001b[39m\u001b[33mMonica\u001b[39m\u001b[33m\"\u001b[39m, \u001b[33m\"\u001b[39m\u001b[33mAnagha\u001b[39m\u001b[33m\"\u001b[39m}\n\u001b[32m----> \u001b[39m\u001b[32m3\u001b[39m \u001b[43mmaths\u001b[49m\u001b[43m.\u001b[49m\u001b[43madd\u001b[49m\u001b[43m(\u001b[49m\u001b[43m{\u001b[49m\u001b[33;43m\"\u001b[39;49m\u001b[33;43mRavi\u001b[39;49m\u001b[33;43m\"\u001b[39;49m\u001b[43m,\u001b[49m\u001b[33;43m\"\u001b[39;49m\u001b[33;43mDeepak\u001b[39;49m\u001b[33;43m\"\u001b[39;49m\u001b[43m,\u001b[49m\u001b[33;43m\"\u001b[39;49m\u001b[33;43mAshif\u001b[39;49m\u001b[33;43m\"\u001b[39;49m\u001b[43m}\u001b[49m\u001b[43m)\u001b[49m\n\u001b[32m      4\u001b[39m \u001b[38;5;28mprint\u001b[39m(maths)\n",
      "\u001b[31mTypeError\u001b[39m: unhashable type: 'set'"
     ]
    }
   ],
   "source": [
    "#Type error Due to unhashable set element\n",
    "maths={\"Ashifa\", \"Shruthi\", \"Jasra\", \"Monica\", \"Anagha\"}\n",
    "maths.add({\"Ravi\",\"Deepak\",\"Ashif\"})\n",
    "print(maths)"
   ]
  },
  {
   "cell_type": "code",
   "execution_count": 12,
   "id": "b19cd19e-58cd-4703-b210-71b6f2e6113a",
   "metadata": {},
   "outputs": [
    {
     "name": "stdout",
     "output_type": "stream",
     "text": [
      "{'Shruthi', 'Jasra', 'Anagha', 'Monica'}\n"
     ]
    }
   ],
   "source": [
    "#Discard function\n",
    "maths={\"Ashifa\", \"Shruthi\", \"Jasra\", \"Monica\", \"Anagha\"}\n",
    "maths.discard(\"Ashifa\")\n",
    "print(maths)"
   ]
  },
  {
   "cell_type": "code",
   "execution_count": 13,
   "id": "b9b4d575-7d0a-43c3-b81b-a5aa3e7a3059",
   "metadata": {},
   "outputs": [
    {
     "name": "stdout",
     "output_type": "stream",
     "text": [
      "{'Ashifa', 'Jasra', 'Anagha', 'Monica'}\n"
     ]
    }
   ],
   "source": [
    "#Remove function\n",
    "maths={\"Ashifa\", \"Shruthi\", \"Jasra\", \"Monica\", \"Anagha\"}\n",
    "maths.remove(\"Shruthi\")\n",
    "print(maths)"
   ]
  },
  {
   "cell_type": "code",
   "execution_count": 14,
   "id": "cb705e42-4bb3-44d2-91db-1f42a040ac75",
   "metadata": {},
   "outputs": [
    {
     "ename": "KeyError",
     "evalue": "'Ashifa'",
     "output_type": "error",
     "traceback": [
      "\u001b[31m---------------------------------------------------------------------------\u001b[39m",
      "\u001b[31mKeyError\u001b[39m                                  Traceback (most recent call last)",
      "\u001b[36mCell\u001b[39m\u001b[36m \u001b[39m\u001b[32mIn[14]\u001b[39m\u001b[32m, line 4\u001b[39m\n\u001b[32m      2\u001b[39m maths={\u001b[33m\"\u001b[39m\u001b[33mAshifa\u001b[39m\u001b[33m\"\u001b[39m, \u001b[33m\"\u001b[39m\u001b[33mShruthi\u001b[39m\u001b[33m\"\u001b[39m, \u001b[33m\"\u001b[39m\u001b[33mJasra\u001b[39m\u001b[33m\"\u001b[39m, \u001b[33m\"\u001b[39m\u001b[33mMonica\u001b[39m\u001b[33m\"\u001b[39m, \u001b[33m\"\u001b[39m\u001b[33mAnagha\u001b[39m\u001b[33m\"\u001b[39m}\n\u001b[32m      3\u001b[39m maths.discard(\u001b[33m\"\u001b[39m\u001b[33mAshifa\u001b[39m\u001b[33m\"\u001b[39m)\n\u001b[32m----> \u001b[39m\u001b[32m4\u001b[39m \u001b[43mmaths\u001b[49m\u001b[43m.\u001b[49m\u001b[43mremove\u001b[49m\u001b[43m(\u001b[49m\u001b[33;43m\"\u001b[39;49m\u001b[33;43mAshifa\u001b[39;49m\u001b[33;43m\"\u001b[39;49m\u001b[43m)\u001b[49m\n\u001b[32m      5\u001b[39m \u001b[38;5;28mprint\u001b[39m(maths)\n",
      "\u001b[31mKeyError\u001b[39m: 'Ashifa'"
     ]
    }
   ],
   "source": [
    "#Key error while removing non-existent element from set\n",
    "maths={\"Ashifa\", \"Shruthi\", \"Jasra\", \"Monica\", \"Anagha\"}\n",
    "maths.discard(\"Ashifa\")\n",
    "maths.remove(\"Ashifa\")\n",
    "print(maths)"
   ]
  },
  {
   "cell_type": "code",
   "execution_count": 15,
   "id": "ea909fdd-79f0-4596-9178-199b8c97c68a",
   "metadata": {},
   "outputs": [
    {
     "name": "stdout",
     "output_type": "stream",
     "text": [
      "{'n', 'c', 'a', 'e', 'd'}\n"
     ]
    }
   ],
   "source": [
    "#Avoiding duplicates\n",
    "s={'a','c','e','d'}\n",
    "s.update('and')\n",
    "print(s)"
   ]
  },
  {
   "cell_type": "code",
   "execution_count": 16,
   "id": "7a0ddf05-fcbe-4737-8cfc-68793957fc0f",
   "metadata": {},
   "outputs": [
    {
     "name": "stdout",
     "output_type": "stream",
     "text": [
      "set()\n"
     ]
    }
   ],
   "source": [
    "#Clear function\n",
    "s={'a','c','e','d'}\n",
    "s.clear()\n",
    "print(s)"
   ]
  }
 ],
 "metadata": {
  "kernelspec": {
   "display_name": "Python 3 (ipykernel)",
   "language": "python",
   "name": "python3"
  },
  "language_info": {
   "codemirror_mode": {
    "name": "ipython",
    "version": 3
   },
   "file_extension": ".py",
   "mimetype": "text/x-python",
   "name": "python",
   "nbconvert_exporter": "python",
   "pygments_lexer": "ipython3",
   "version": "3.13.5"
  }
 },
 "nbformat": 4,
 "nbformat_minor": 5
}
