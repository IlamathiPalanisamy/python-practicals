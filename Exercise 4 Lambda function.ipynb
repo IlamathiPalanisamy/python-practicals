{
 "cells": [
  {
   "cell_type": "code",
   "execution_count": 2,
   "id": "a497a082-6d9a-4d3b-87b6-88e4cdd60564",
   "metadata": {},
   "outputs": [
    {
     "name": "stdout",
     "output_type": "stream",
     "text": [
      "9\n"
     ]
    }
   ],
   "source": [
    "#Addition of two numbers\n",
    "add=lambda x,y:x+y\n",
    "print(add(4,5))"
   ]
  },
  {
   "cell_type": "code",
   "execution_count": 3,
   "id": "d1d5d495-411c-4fb6-9c93-71c5e7e8f156",
   "metadata": {},
   "outputs": [
    {
     "name": "stdout",
     "output_type": "stream",
     "text": [
      "25\n"
     ]
    }
   ],
   "source": [
    "#Square of a number\n",
    "square=lambda x:x*x\n",
    "print(square(5))"
   ]
  },
  {
   "cell_type": "code",
   "execution_count": 7,
   "id": "7029f106-a309-43e4-928a-0ba777b17b7d",
   "metadata": {},
   "outputs": [
    {
     "name": "stdout",
     "output_type": "stream",
     "text": [
      "[16, 36, 64, 81, 4]\n"
     ]
    }
   ],
   "source": [
    "#Using lambda with map()\n",
    "n=[4,6,8,9,2]\n",
    "square=list(map(lambda n:n*n,n))\n",
    "print(square)"
   ]
  },
  {
   "cell_type": "code",
   "execution_count": 5,
   "id": "cd9fcddf-b39a-4f16-9ee7-9d9e55d1162f",
   "metadata": {},
   "outputs": [
    {
     "name": "stdout",
     "output_type": "stream",
     "text": [
      "[4, 6, 8, 2]\n"
     ]
    }
   ],
   "source": [
    "#Using lambda with filter()\n",
    "n=[4,6,1,3,8,9,2]\n",
    "e=list(filter(lambda n:n%2==0,n))\n",
    "print(e)"
   ]
  },
  {
   "cell_type": "code",
   "execution_count": 6,
   "id": "fae0cd93-650b-4992-a994-0f4eea7feab7",
   "metadata": {},
   "outputs": [
    {
     "name": "stdout",
     "output_type": "stream",
     "text": [
      "[True, True, False, False, True, False, True]\n"
     ]
    }
   ],
   "source": [
    "n=[4,6,1,3,8,9,2]\n",
    "e=list(map(lambda n:n%2==0,n))\n",
    "print(e)"
   ]
  }
 ],
 "metadata": {
  "kernelspec": {
   "display_name": "Python 3 (ipykernel)",
   "language": "python",
   "name": "python3"
  },
  "language_info": {
   "codemirror_mode": {
    "name": "ipython",
    "version": 3
   },
   "file_extension": ".py",
   "mimetype": "text/x-python",
   "name": "python",
   "nbconvert_exporter": "python",
   "pygments_lexer": "ipython3",
   "version": "3.13.5"
  }
 },
 "nbformat": 4,
 "nbformat_minor": 5
}
