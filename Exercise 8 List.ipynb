{
 "cells": [
  {
   "cell_type": "code",
   "execution_count": 6,
   "id": "fbddfd5e-2860-454a-aa5a-aaea016296a8",
   "metadata": {},
   "outputs": [
    {
     "name": "stdout",
     "output_type": "stream",
     "text": [
      "[2, 4, 6, 8, 10] ['Red', 'blue', 'pink', 'yellow', 'black'] [109, 80.9, 'Ashifa', True] []\n"
     ]
    }
   ],
   "source": [
    "#Creating a list \n",
    "numbers=[2,4,6,8,10]\n",
    "colors=[\"Red\",\"blue\",\"pink\",\"yellow\",\"black\"]\n",
    "combined_list=[109,80.9,\"Ashifa\",True]\n",
    "empty_list=[]\n",
    "print(numbers,colors,combined_list,empty_list)"
   ]
  },
  {
   "cell_type": "code",
   "execution_count": 5,
   "id": "d0e75a84-a8a5-4371-9294-42e75a7c062c",
   "metadata": {},
   "outputs": [
    {
     "name": "stdout",
     "output_type": "stream",
     "text": [
      "Red\n",
      "Red\n",
      "black\n",
      "black\n"
     ]
    }
   ],
   "source": [
    "#Accessing list elements\n",
    "colors=[\"Red\",\"blue\",\"pink\",\"yellow\",\"black\"]\n",
    "print(colors[0])\n",
    "print(colors[-5])\n",
    "print(colors[4])\n",
    "print(colors[-1])"
   ]
  },
  {
   "cell_type": "code",
   "execution_count": 4,
   "id": "35ed5707-b109-4651-870d-96813bf0f84a",
   "metadata": {},
   "outputs": [
    {
     "name": "stdout",
     "output_type": "stream",
     "text": [
      "['Red', 'Lavender', 'Green', 'yellow', 'black']\n"
     ]
    }
   ],
   "source": [
    "#Modify a list\n",
    "colors=[\"Red\",\"blue\",\"pink\",\"yellow\",\"black\"]\n",
    "colors[1]=\"Lavender\"\n",
    "colors[2]=\"Green\"\n",
    "print(colors)"
   ]
  },
  {
   "cell_type": "code",
   "execution_count": 8,
   "id": "47596155-3cfb-4148-a777-961970c8fb0c",
   "metadata": {},
   "outputs": [
    {
     "name": "stdout",
     "output_type": "stream",
     "text": [
      "['Red', 'Orange', 'blue', 'pink', 'yellow', 'black', 'White']\n"
     ]
    }
   ],
   "source": [
    "#Common list operations-01\n",
    "colors=[\"Red\",\"blue\",\"pink\",\"yellow\",\"black\"]\n",
    "colors.append(\"White\")\n",
    "colors.insert(1,\"Orange\")\n",
    "print(colors)"
   ]
  },
  {
   "cell_type": "code",
   "execution_count": 9,
   "id": "32705385-ecb6-4b6b-9b8a-7c2e3038ba8a",
   "metadata": {},
   "outputs": [
    {
     "name": "stdout",
     "output_type": "stream",
     "text": [
      "['Red', 'blue', 'pink', 'yellow']\n"
     ]
    }
   ],
   "source": [
    "#Common list operations-02\n",
    "colors=[\"Red\",\"blue\",\"pink\",\"yellow\",\"black\"]\n",
    "colors.pop()\n",
    "print(colors)"
   ]
  },
  {
   "cell_type": "code",
   "execution_count": 10,
   "id": "d21515e4-4e3e-4318-95ea-54123f805441",
   "metadata": {},
   "outputs": [
    {
     "name": "stdout",
     "output_type": "stream",
     "text": [
      "['blue', 'pink', 'yellow', 'black']\n"
     ]
    }
   ],
   "source": [
    "#Common list operations-03\n",
    "colors=[\"Red\",\"blue\",\"pink\",\"yellow\",\"black\"]\n",
    "colors.remove(\"Red\")\n",
    "print(colors)"
   ]
  },
  {
   "cell_type": "code",
   "execution_count": 11,
   "id": "7fab0205-c776-4688-9494-4bfec91db882",
   "metadata": {},
   "outputs": [
    {
     "name": "stdout",
     "output_type": "stream",
     "text": [
      "5\n",
      "4\n"
     ]
    }
   ],
   "source": [
    "#Common list operations-04\n",
    "colors=[\"Red\",\"blue\",\"pink\",\"yellow\",\"black\"]\n",
    "combined_list=[109,80.9,\"Ashifa\",True]\n",
    "print(len(colors))\n",
    "print(len(combined_list))"
   ]
  },
  {
   "cell_type": "code",
   "execution_count": 12,
   "id": "cbd908f4-e3b5-46b9-b5fe-faef424c2137",
   "metadata": {},
   "outputs": [
    {
     "name": "stdout",
     "output_type": "stream",
     "text": [
      "5\n",
      "98\n",
      "[5, 20, 25, 34, 98]\n",
      "[98, 34, 25, 20, 5]\n"
     ]
    }
   ],
   "source": [
    "#Build-in functions in list\n",
    "a=[5,34,98,20,25]\n",
    "print(min(a))\n",
    "print(max(a))\n",
    "a.sort()\n",
    "print(a)\n",
    "a.reverse()\n",
    "print(a)"
   ]
  },
  {
   "cell_type": "code",
   "execution_count": 13,
   "id": "3bb26a36-0853-437b-945d-311cda0437a6",
   "metadata": {},
   "outputs": [
    {
     "name": "stdout",
     "output_type": "stream",
     "text": [
      "Red\n",
      "blue\n",
      "pink\n",
      "yellow\n",
      "black\n"
     ]
    }
   ],
   "source": [
    "#Looping in list\n",
    "colors=[\"Red\",\"blue\",\"pink\",\"yellow\",\"black\"]\n",
    "for i in colors:\n",
    "    print(i)"
   ]
  },
  {
   "cell_type": "code",
   "execution_count": 20,
   "id": "7248ee27-eda2-4203-9f84-7957044436da",
   "metadata": {},
   "outputs": [
    {
     "name": "stdout",
     "output_type": "stream",
     "text": [
      "[5, 34]\n",
      "[25, 20, 98, 34, 5]\n"
     ]
    }
   ],
   "source": [
    "#List slicing\n",
    "a=[5,34,98,20,25]\n",
    "print(a[0:2])\n",
    "print(a[::-1])"
   ]
  },
  {
   "cell_type": "code",
   "execution_count": 15,
   "id": "8a80001d-e675-47c6-8330-32aad37197e7",
   "metadata": {},
   "outputs": [
    {
     "name": "stdout",
     "output_type": "stream",
     "text": [
      "[1, 4, 9, 16, 25]\n"
     ]
    }
   ],
   "source": [
    "#Square of a number from ranges 1 to 5\n",
    "s=[n**2 for n in range(1,6)]\n",
    "print(s)"
   ]
  },
  {
   "cell_type": "code",
   "execution_count": 16,
   "id": "3bb07d89-2a5d-4d27-8d3a-356e805a9757",
   "metadata": {},
   "outputs": [
    {
     "name": "stdout",
     "output_type": "stream",
     "text": [
      "[25, 4, 16, 49, 64]\n"
     ]
    }
   ],
   "source": [
    "#Square of numbers\n",
    "l1=[5,2,4,7,8]\n",
    "s=[n**2 for n in l1]\n",
    "print(s)"
   ]
  },
  {
   "cell_type": "code",
   "execution_count": 17,
   "id": "da49a02c-de58-478f-8016-038efb42d12e",
   "metadata": {},
   "outputs": [
    {
     "name": "stdout",
     "output_type": "stream",
     "text": [
      "3\n"
     ]
    }
   ],
   "source": [
    "#Count how many numbers are even in the list\n",
    "z=[3,8,9,10,45,22]\n",
    "w=0\n",
    "for n in z:\n",
    "    if n%2==0:\n",
    "        w+=1\n",
    "print(w)"
   ]
  },
  {
   "cell_type": "code",
   "execution_count": 18,
   "id": "579ad8dc-60fc-4f20-9b4c-3182c7621478",
   "metadata": {},
   "outputs": [
    {
     "name": "stdout",
     "output_type": "stream",
     "text": [
      "Shruthi\n",
      "Monica\n",
      "Jasra\n",
      "Ashifa\n",
      "['Shruthi', 'Anagha', 'Monica', 'Jasra', 'Ashifa']\n",
      "['Shruthi', 'Anagha', 'Monica', 'Jasra']\n",
      "['Anagha', 'Jasra', 'Monica', 'Shruthi']\n",
      "Anagha\n",
      "Jasra\n",
      "Monica\n",
      "Shruthi\n"
     ]
    },
    {
     "name": "stdin",
     "output_type": "stream",
     "text": [
      "Enter the name: Hema\n"
     ]
    },
    {
     "name": "stdout",
     "output_type": "stream",
     "text": [
      "The name is not present in the list\n"
     ]
    }
   ],
   "source": [
    "#Exercise 1\n",
    "student=[]\n",
    "student.append(\"Shruthi\")\n",
    "student.append(\"Monica\")\n",
    "student.append(\"Jasra\")\n",
    "student.append(\"Ashifa\")\n",
    "for i in student:\n",
    "    print(i)\n",
    "student.insert(1,\"Anagha\")\n",
    "print(student)\n",
    "student.remove(\"Ashifa\")\n",
    "print(student)\n",
    "student.sort()\n",
    "print(student)\n",
    "for i in student:\n",
    "    print(i)\n",
    "a=input(\"Enter the name:\")\n",
    "for i in student:\n",
    "    if i==a:\n",
    "        print(\"The name is present in the list\")\n",
    "    else:\n",
    "        print(\"The name is not present in the list\")\n",
    "    break"
   ]
  },
  {
   "cell_type": "code",
   "execution_count": 19,
   "id": "2fd4192d-49e5-4ee0-9713-55fa95fda4b0",
   "metadata": {},
   "outputs": [
    {
     "name": "stdout",
     "output_type": "stream",
     "text": [
      "{2, 5, 6, 9, 10}\n",
      "{'Anagha', 'Shruthi', 'Ashifa'}\n"
     ]
    }
   ],
   "source": [
    "#Removing duplicates from the list\n",
    "x=[2,5,6,9,5,2,10]\n",
    "y=[\"Anagha\",\"Ashifa\",\"Shruthi\",\"Ashifa\"]\n",
    "print(set(x))\n",
    "print(set(y))"
   ]
  }
 ],
 "metadata": {
  "kernelspec": {
   "display_name": "Python 3 (ipykernel)",
   "language": "python",
   "name": "python3"
  },
  "language_info": {
   "codemirror_mode": {
    "name": "ipython",
    "version": 3
   },
   "file_extension": ".py",
   "mimetype": "text/x-python",
   "name": "python",
   "nbconvert_exporter": "python",
   "pygments_lexer": "ipython3",
   "version": "3.13.5"
  }
 },
 "nbformat": 4,
 "nbformat_minor": 5
}
